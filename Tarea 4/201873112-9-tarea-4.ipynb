{
 "cells": [
  {
   "attachments": {},
   "cell_type": "markdown",
   "metadata": {
    "cell_id": "9f9da87bd6334483915c76731ae930c9",
    "deepnote_cell_type": "markdown"
   },
   "source": [
    "<center>\n",
    "    <img src=\"http://sct.inf.utfsm.cl/wp-content/uploads/2020/04/logo_di.png\" style=\"width:60%\">\n",
    "    <h1> INF285 - Computación Científica </h1>\n",
    "    <h2> Tarea 4 - Código Base</h2>\n",
    "    <h2> [S]cientific [C]omputing [T]eam </a> </h2>\n",
    "    <h2> Versión: 1.01</h2>\n",
    "</center>"
   ]
  },
  {
   "attachments": {},
   "cell_type": "markdown",
   "metadata": {
    "cell_id": "febd448714a545588221591a5c0bf818",
    "deepnote_cell_type": "markdown"
   },
   "source": [
    "## Contexto\n",
    "\n",
    "Un laboratorio de investigación se dedica a realizar investigaciones para empresas en múltiples áreas de estudios, como el análisis de poblaciones entre especies, nuevas formas de calcular integrales, o métodos ingeniosos para resolver problemas en general. Usted, como futuro Ingeniero en Informática de la USM, con conocimientos en Física y Matemática, decide realizar su práctica profesional con esta empresa, por lo que a usted le dan el cargo de analista de datos. Su principal función es la de resolver todo tipo de problemas en el laboratorio relacionados con la obtención y procesamiento de datos.\n",
    "\n",
    "Durante su estadía en la empresa, usted se da cuenta de que varios departamentos dentro del laboratorio están teniendo problemas para poder avanzar con sus investigaciones, y es por ello que su supervisor de práctica le ha pedido a usted que resuelva esos problemas utilizando todos los conocimientos adquiridos en el curso de Computación Científica. "
   ]
  },
  {
   "attachments": {},
   "cell_type": "markdown",
   "metadata": {
    "cell_id": "b0144853f0ee421e96f922506276c009",
    "deepnote_cell_type": "markdown"
   },
   "source": [
    "## Librerías a utilizar - No modificar"
   ]
  },
  {
   "cell_type": "code",
   "execution_count": 8,
   "metadata": {
    "cell_id": "1078256670b9407bb576816631efa59e",
    "deepnote_cell_type": "code",
    "deepnote_to_be_reexecuted": false,
    "execution_millis": 2423,
    "execution_start": 1686780487240,
    "source_hash": "b6a3dbb4"
   },
   "outputs": [],
   "source": [
    "import numpy as np\n",
    "import pandas as pd\n",
    "from scipy.integrate import solve_ivp\n",
    "import matplotlib.pyplot as plt"
   ]
  },
  {
   "attachments": {},
   "cell_type": "markdown",
   "metadata": {
    "cell_id": "3eb61bc1acac46939915edc85de153ea",
    "deepnote_cell_type": "markdown"
   },
   "source": [
    "### 1. Pérdida de una resistencia (15 puntos)\n",
    "\n",
    "Dentro del laboratorio se ha producido un accidente en el cual se ha perdido el valor nominal $R$ de una resistencia eléctrica. Para resolver este problema rápidamente, decide armar un circuito sencillo como el de la figura, para luego realizar con un multímetro varias mediciones de la corriente $i$ y del voltaje $v$ en el circuito, las cuales registra en un archivo _muestras.csv_.\n",
    "\n",
    "<p align='center'><img src='simple-circuito-electrico.png'></p>\n"
   ]
  },
  {
   "attachments": {},
   "cell_type": "markdown",
   "metadata": {
    "cell_id": "54e2f025d194494e9c45d8827e8baa50",
    "deepnote_cell_type": "markdown"
   },
   "source": [
    "#### 1.1 Proponga un modelo que permita estimar el valor de la resistencia $R$, teniendo solamente los valores de la corriente $i$ y el voltaje $v(i)$, y teniendo en cuenta que el modelo debe tener al menos 2 parámetros a ajustar. Explique explícitamente cómo piensa encontrar el valor de $R$ dentro del modelo, y explique el porqué de su razonamiento.\n",
    "Respuesta: \n",
    "\n"
   ]
  },
  {
   "attachments": {},
   "cell_type": "markdown",
   "metadata": {},
   "source": [
    "Buscamos plantear un modelo que aproxime de buena forma eficiente la resistencia $R$ que viene dada por la expresión:\n",
    "$$\n",
    "    R = \\frac{v(i)}{i}\n",
    "$$\n",
    "El modelo se buscará a través del método de mínimos cuadrados, es decir, se verá de la siguiente forma:\n",
    "$$\n",
    "    y = a + bx\n",
    "$$\n",
    "Siendo a y b los parámetros que debemos estimar.\n",
    "$$\n",
    "    \\begin{bmatrix}\n",
    "        1 & x_1 \\\\\n",
    "        1 & x_2 \\\\\n",
    "        \\vdots & \\vdots \\\\\n",
    "        1 & x_n\n",
    "    \\end{bmatrix}\n",
    "    \\begin{bmatrix}\n",
    "        a \\\\\n",
    "        b\n",
    "    \\end{bmatrix}\n",
    "    =   \\begin{bmatrix}\n",
    "            y_1 \\\\\n",
    "            y_2 \\\\\n",
    "            \\vdots \\\\\n",
    "            y_n\n",
    "        \\end{bmatrix}\n",
    "$$\n",
    "Esto es igual que resolver un sistema de ecuaciones $Ax = b$, pero esta vez el sistema está sobredeterminado.\n",
    "Para este tipo de problemas, podemos utilizar la factorización $A = QR$, la cual minimiza el error cuadrático. Siguiendo estos pasos:\n",
    "$$\n",
    "    QRx = b \n",
    "$$\n",
    "Resolviendo este sistema de ecuaciones obtendremos los parámetros que necesitamos para estimar el valor de R.\n"
   ]
  },
  {
   "attachments": {},
   "cell_type": "markdown",
   "metadata": {
    "cell_id": "d9e90359d93e438fad7b0a1564d73273",
    "deepnote_cell_type": "markdown"
   },
   "source": [
    "#### 1.2 Implemente la función <em>least_squared</em>, la cual recibe como parámetros un vector de datos de entrada $\\bold{x} = (x_1, x_2, ..., x_m)$ y un vector de datos de salida $\\bold{y} = (y_1, y_2, ..., y_m)$, y debe retornar los valores para $a$ y $b$ que mejor ajusten al modelo $y = f(x)$ propuesto en el inciso anterior a los datos $(x_i, y_i)$ entregados. (5 puntos)\n",
    "\n",
    "<div class=\"alert alert-block alert-danger\"><b>Está prohibido usar la función de NumPy np.linalg.lstsq o cualquier otra función predefinida que implemente mínimos cuadrados.</b>\n",
    "</div>\n",
    "\n",
    "<div class=\"alert alert-block alert-info\">Sí está permitido usar la función np.linalg.solve para resolver un sistema de ecuaciones. </a>\n",
    "</div>\n",
    "\n",
    "Respuesta:\n"
   ]
  },
  {
   "cell_type": "code",
   "execution_count": 24,
   "metadata": {
    "cell_id": "9369c6a8b7384baba2e7afc2ba257e19",
    "deepnote_cell_type": "code",
    "deepnote_to_be_reexecuted": false,
    "execution_millis": 11,
    "execution_start": 1686780489704,
    "source_hash": "68ed5aa3"
   },
   "outputs": [],
   "source": [
    "def least_squared(x, y):\n",
    "    '''\n",
    "    Inputs\n",
    "    x: ndarray\n",
    "       vector of inputs [x1, x2, ..., xm]\n",
    "    \n",
    "    y: ndarray\n",
    "       vector of inputs [y1, y2, ..., ym]\n",
    "\n",
    "    ---\n",
    "    Returns\n",
    "    s: ndarray\n",
    "       vector of outputs [b, a]\n",
    "    '''\n",
    "    # Tu codigo aqui\n",
    "    A = np.array(np.transpose([np.ones(x.size), x]))\n",
    "    \n",
    "    Q, R = np.linalg.qr(A, mode='reduced')\n",
    "    \n",
    "    s = np.linalg.solve(R, np.dot(Q.T, y))\n",
    "    return s"
   ]
  },
  {
   "attachments": {},
   "cell_type": "markdown",
   "metadata": {
    "cell_id": "7e44a0f789ec43c687fc8dce94b83add",
    "deepnote_cell_type": "markdown"
   },
   "source": [
    "#### 1.3 Utilizando los valores del dataset <em>muestras.csv</em> y la función $\\verb|least_squared|$, entregue una aproximación de la resistencia $R$ con dos cifras significativas. (5 puntos)"
   ]
  },
  {
   "cell_type": "code",
   "execution_count": 26,
   "metadata": {
    "cell_id": "8bc7c418be0042388ece9454607ea049",
    "deepnote_cell_type": "code",
    "deepnote_to_be_reexecuted": false,
    "execution_millis": 30,
    "execution_start": 1686780489720,
    "source_hash": "576fee61"
   },
   "outputs": [
    {
     "data": {
      "text/plain": [
       "array([0.98, 2.46])"
      ]
     },
     "execution_count": 26,
     "metadata": {},
     "output_type": "execute_result"
    }
   ],
   "source": [
    "#Realizar aqui sus experimentos\n",
    "df = pd.read_csv('muestras.csv')\n",
    "R = np.round(least_squared(df.ampere, df.voltage), 2)\n",
    "R"
   ]
  },
  {
   "attachments": {},
   "cell_type": "markdown",
   "metadata": {
    "cell_id": "12f60a19e9d14b1cbe0fce3eff37d376",
    "deepnote_cell_type": "markdown"
   },
   "source": [
    "### 2. Aproximando un área bajo una curva (25 puntos)\n",
    "\n",
    "En una de las áreas del laboratorio, se está intentando calcular el área de un terreno irregular para comprobar si es posible construir unos galpones destinados a la mantención de camiones dedicados al transporte de combustible. La región viene representada por:\n",
    "\n",
    "$$\n",
    "S = \\{(x, y) \\in \\mathbb{R}^2 : x^4 \\leq y \\leq e^{\\sin(x)}\\}\n",
    "$$\n",
    "\n",
    "Para resolver este problema, se debe calcular la siguiente integral:\n",
    "\n",
    "$$\n",
    "\\displaystyle\\int_{x_1}^{x_2} (e^{\\sin(x)}-x^4) dx\n",
    "$$\n",
    "\n",
    "donde $x_1$ y $x_2$ son, respectivamente, el mínimo y el máximo valor posible para $x$ dentro de la región $S$.\n",
    "\n",
    "Sin embargo, se dieron cuenta de dos detalles importantes:\n",
    "- Las constantes $x_1$ y $x_2$ no pueden encontrarse de manera analítica.\n",
    "- La integral no se puede calcular de manera analítica.\n",
    "\n",
    "Para ello, el propio laboratorio propone calcular cualquier integral mediante la siguiente fórmula de cuadratura:\n",
    "\n",
    "$$\n",
    "\\displaystyle\\int_{x_1}^{x_2} f(x) dx \\approx af(x_1) + bf\\left(\\dfrac{x_1+x_2}{2}\\right) + cf(x_2)\n",
    "$$\n",
    "\n",
    "donde $a,b,c\\in\\mathbb{R}$. \n",
    "\n",
    "El único problema que se tiene es encontrar los pesos $a,b,c$ de tal forma que la integral resulte exacta para polinomios del grado más alto posible.\n",
    "\n",
    "Por lo tanto, lo que debe buscar son los valores de los límites de integración $x_1$ y $x_2$, y los pesos $a,b,c$ para la fórmula de cuadratura. "
   ]
  },
  {
   "attachments": {},
   "cell_type": "markdown",
   "metadata": {
    "cell_id": "c69580e1d2704e97b1f2188c7335df2d",
    "deepnote_cell_type": "markdown"
   },
   "source": [
    "#### 2.1 Explique teóricamente cómo encontrar los límites de integración $x_1$ y $x_2$, que representan el mínimo y máximo valor posible para $x$ en la región $S$. Justifique su elección analizando la convergencia del algoritmo. <em>Hint: It is not necessary to analyze the integral, just propose an algorithm that finds both constants using the knowledge of the subject</em> (5 puntos)\n",
    "\n",
    "Respuesta:\n",
    "\n"
   ]
  },
  {
   "attachments": {},
   "cell_type": "markdown",
   "metadata": {},
   "source": [
    "Para encontrar los límites de integración $x_1$ y $x_2$ podemos utilizar cualquier método de búsqueda de raíces. En este caso, teniendo en cuenta la fórmula de cuadratura propuesta por el laboratorio, utilizaremos el método Newton, para este caso tomaremos la función $f(x) = (e^{\\sin(x)}-x^4)$.\n",
    "Notar que para este método necesitamos $f'(x)$.\n"
   ]
  },
  {
   "attachments": {},
   "cell_type": "markdown",
   "metadata": {
    "cell_id": "ec82438fa8524eb0a2ee40ae4fa6b89e",
    "deepnote_cell_type": "markdown"
   },
   "source": [
    "#### 2.2 Una vez encontrados los límites de integración $x_1$ y $x_2$, explique de manera teórica cómo encontrar los valores de los pesos $a$, $b$ y $c$ para la cuadratura propuesta por el laboratorio. <em>Hint: Remember that any quadrature formula must exactly integrate all the polynomials $x^n, \\forall n = \\{0,1,2,\\ldots,k\\}$ in $[-1,1]$</em>. (10 puntos)\n",
    "\n",
    "Respuesta:\n",
    "\n"
   ]
  },
  {
   "attachments": {},
   "cell_type": "markdown",
   "metadata": {},
   "source": [
    "Para encontrar los pesos adecuados haremos uso de el método de cuadratura Gaussiana en su versión reducida, por lo que haremos uso del polinomio de Legendre $p_n(x)$ para $n = 2$ con los nodos obtenidos en el punto anterior.\n",
    "$$\n",
    "    p_n(x) = \\frac{1}{2^n n!}\\frac{d^n}{dx^n}[(x^2 -1)^n]\n",
    "$$ \n",
    "$$\n",
    "    p_0(x) = 1 \\\\\n",
    "    p_1(x) = x \\\\\n",
    "    p_2(x) = \\frac{1}{2}(3x^2 - 1) \n",
    "$$\n",
    "Lo que nos dará los pesos para la cuadratura.\n"
   ]
  },
  {
   "attachments": {},
   "cell_type": "markdown",
   "metadata": {
    "cell_id": "2109a48e57cb4753a32d3a14d1ebbebb",
    "deepnote_cell_type": "markdown"
   },
   "source": [
    "#### 2.3 Implemente las siguientes dos funciones: (5 puntos)\n",
    "- $\\verb|find_integration_limits|$, que calcula los límites de integración $x_1$ y $x_2$.\n",
    "- $\\verb|find_quadrature_weights|$, que calcula los pesos $a,b$ y $c$ de la fórmula de cuadratura."
   ]
  },
  {
   "cell_type": "code",
   "execution_count": null,
   "metadata": {
    "cell_id": "dfa3a50190c64354af87c0b347f65bb9",
    "deepnote_cell_type": "code",
    "deepnote_to_be_reexecuted": false,
    "execution_millis": 10,
    "execution_start": 1686780489793,
    "source_hash": "b110b15d"
   },
   "outputs": [],
   "source": [
    "def find_integration_limits(g1, g2, x10, x20, tol=1e-5):\n",
    "    '''\n",
    "    Inputs:\n",
    "    g1:  lambda\n",
    "         function that calculates g1(x)\n",
    "    g2:  lambda\n",
    "         function that calculates g2(x)\n",
    "    x10: int\n",
    "         Initial coefficient x_1^0\n",
    "    x20: int\n",
    "         Initial coefficient x_2^0\n",
    "    tol: double\n",
    "         Coefficient of tolerance, defect value = 10^-5\n",
    "    Outputs:\n",
    "    x1:  double\n",
    "         Coefficient x_1\n",
    "    x2:  double\n",
    "         Coefficient x_2\n",
    "    '''\n",
    "    #Tu codigo aqui\n",
    "    x1 = x10\n",
    "    x2 = x20\n",
    "    f = lambda x: g1(x) - g2(x)\n",
    "    df = lambda x: (np.exp(np.sin(x)) * np.cos(x)) - (np.power(x, 3) * 4)\n",
    "\n",
    "    while abs(f(x1)) > tol:\n",
    "        x1 = x1 - (f(x1) / df(x1))     \n",
    "    \n",
    "    while abs(f(x2)) > tol:\n",
    "        x2 = x2 - (f(x2) / df(x2))\n",
    "        \n",
    "    return x1, x2\n",
    "\n",
    "def find_quadrature_weights(x1, x2):\n",
    "    '''\n",
    "    Inputs:\n",
    "    x1: double\n",
    "        Coefficient x_1\n",
    "    x2: double\n",
    "        Coefficient x_2\n",
    "    Output:\n",
    "    a:  double\n",
    "        Coefficient a\n",
    "    b:  double\n",
    "        Coefficient b\n",
    "    a:  double\n",
    "        Coefficient c\n",
    "    '''\n",
    "    # Tu codigo aqui\n",
    "    p0 = 0\n",
    "    p1 = lambda x : x\n",
    "    p2 = lambda x: (1 / 2) * (3*(x**2) + 1)\n",
    "    a = p0 + p1(x1) + p2(x1)\n",
    "    b = p0 + p1(x1) - p1(x2) + p2(x1) - p2(x2)\n",
    "    \n",
    "    return a, b, c"
   ]
  },
  {
   "attachments": {},
   "cell_type": "markdown",
   "metadata": {
    "cell_id": "f15ddd25512f441c99771f874fd9c96a",
    "deepnote_cell_type": "markdown"
   },
   "source": [
    "#### 2.4 Implemente la función $\\verb|quadrature|$ que implementa el lado derecho de la fórmula de cuadratura, y entregue una aproximación del valor del área de la región $S$ utilizando los valores de los límites de integración $x_1,x_2$ y los pesos $a$, $b$ y $c$ de la fórmula de cuadratura. (5 puntos)"
   ]
  },
  {
   "cell_type": "code",
   "execution_count": 28,
   "metadata": {
    "cell_id": "2eba68ce81d149198b92d3c0d7ce4a07",
    "deepnote_cell_type": "code",
    "deepnote_to_be_reexecuted": false,
    "execution_millis": 6,
    "execution_start": 1686780489810,
    "source_hash": "8c7b98b1"
   },
   "outputs": [
    {
     "ename": "KeyboardInterrupt",
     "evalue": "",
     "output_type": "error",
     "traceback": [
      "\u001b[1;31m---------------------------------------------------------------------------\u001b[0m",
      "\u001b[1;31mKeyboardInterrupt\u001b[0m                         Traceback (most recent call last)",
      "\u001b[1;32mc:\\USM\\2023-1\\CC\\Tarea 4\\ROL-tarea-4.ipynb Cell 19\u001b[0m in \u001b[0;36m<cell line: 31>\u001b[1;34m()\u001b[0m\n\u001b[0;32m     <a href='vscode-notebook-cell:/c%3A/USM/2023-1/CC/Tarea%204/ROL-tarea-4.ipynb#X22sZmlsZQ%3D%3D?line=28'>29</a>\u001b[0m g1 \u001b[39m=\u001b[39m \u001b[39mlambda\u001b[39;00m x: np\u001b[39m.\u001b[39mexp(np\u001b[39m.\u001b[39msin(x))\n\u001b[0;32m     <a href='vscode-notebook-cell:/c%3A/USM/2023-1/CC/Tarea%204/ROL-tarea-4.ipynb#X22sZmlsZQ%3D%3D?line=29'>30</a>\u001b[0m g2 \u001b[39m=\u001b[39m \u001b[39mlambda\u001b[39;00m x: np\u001b[39m.\u001b[39mpower(x, \u001b[39m4\u001b[39m)\n\u001b[1;32m---> <a href='vscode-notebook-cell:/c%3A/USM/2023-1/CC/Tarea%204/ROL-tarea-4.ipynb#X22sZmlsZQ%3D%3D?line=30'>31</a>\u001b[0m x1, x2 \u001b[39m=\u001b[39m find_integration_limits(g1, g2, x10, x20)\n\u001b[0;32m     <a href='vscode-notebook-cell:/c%3A/USM/2023-1/CC/Tarea%204/ROL-tarea-4.ipynb#X22sZmlsZQ%3D%3D?line=31'>32</a>\u001b[0m x1, x2\n",
      "\u001b[1;32mc:\\USM\\2023-1\\CC\\Tarea 4\\ROL-tarea-4.ipynb Cell 19\u001b[0m in \u001b[0;36mfind_integration_limits\u001b[1;34m(g1, g2, x10, x20, tol)\u001b[0m\n\u001b[0;32m     <a href='vscode-notebook-cell:/c%3A/USM/2023-1/CC/Tarea%204/ROL-tarea-4.ipynb#X22sZmlsZQ%3D%3D?line=23'>24</a>\u001b[0m df \u001b[39m=\u001b[39m \u001b[39mlambda\u001b[39;00m x: np\u001b[39m.\u001b[39mexp(np\u001b[39m.\u001b[39msin(x)) \u001b[39m-\u001b[39m np\u001b[39m.\u001b[39mpower(x, \u001b[39m4\u001b[39m)\n\u001b[0;32m     <a href='vscode-notebook-cell:/c%3A/USM/2023-1/CC/Tarea%204/ROL-tarea-4.ipynb#X22sZmlsZQ%3D%3D?line=25'>26</a>\u001b[0m \u001b[39mwhile\u001b[39;00m \u001b[39mabs\u001b[39m(f(x1)) \u001b[39m>\u001b[39m tol:\n\u001b[1;32m---> <a href='vscode-notebook-cell:/c%3A/USM/2023-1/CC/Tarea%204/ROL-tarea-4.ipynb#X22sZmlsZQ%3D%3D?line=26'>27</a>\u001b[0m     x1 \u001b[39m=\u001b[39m x1 \u001b[39m-\u001b[39m (f(x1) \u001b[39m/\u001b[39m df(x1))     \n\u001b[0;32m     <a href='vscode-notebook-cell:/c%3A/USM/2023-1/CC/Tarea%204/ROL-tarea-4.ipynb#X22sZmlsZQ%3D%3D?line=28'>29</a>\u001b[0m \u001b[39mwhile\u001b[39;00m \u001b[39mabs\u001b[39m(f(x2)) \u001b[39m>\u001b[39m tol:\n\u001b[0;32m     <a href='vscode-notebook-cell:/c%3A/USM/2023-1/CC/Tarea%204/ROL-tarea-4.ipynb#X22sZmlsZQ%3D%3D?line=29'>30</a>\u001b[0m     x2 \u001b[39m=\u001b[39m x2 \u001b[39m-\u001b[39m (f(x2) \u001b[39m/\u001b[39m df(x2))\n",
      "\u001b[1;31mKeyboardInterrupt\u001b[0m: "
     ]
    }
   ],
   "source": [
    "def quadrature(f, a, b, c, x1, x2):\n",
    "    '''\n",
    "    Inputs:\n",
    "    f:  lambda\n",
    "        function that calculates e^(sin(x))-x^4\n",
    "    a:  double\n",
    "        Coefficient a\n",
    "    b:  doube\n",
    "        Coefficient b\n",
    "    c:  double\n",
    "        Coefficient c\n",
    "    x1: double\n",
    "        Coefficient x_1\n",
    "    x2: double\n",
    "        Coefficient x_2\n",
    "    Output:\n",
    "    I:  double\n",
    "        Returned value used by the quadrature formula\n",
    "    '''\n",
    "    #Tu codigo aqui\n",
    "    f = np.vectorize(f)\n",
    "    x = np.linspace()\n",
    "    \n",
    "    return I\n",
    "\n",
    "# No modificar\n",
    "x10 = -1\n",
    "x20 = 1\n",
    "\n",
    "#Tus experimentos aqui\n",
    "g1 = lambda x: np.exp(np.sin(x))\n",
    "g2 = lambda x: np.power(x, 4)\n",
    "x1, x2 = find_integration_limits(g1, g2, x10, x20)\n",
    "x1, x2\n"
   ]
  },
  {
   "attachments": {},
   "cell_type": "markdown",
   "metadata": {
    "cell_id": "3cba148e836a4c06a0a8dbd9867ab4b2",
    "deepnote_cell_type": "markdown"
   },
   "source": [
    "### 3. Desacuerdos en las ecuaciones. (50 puntos)\n",
    "\n",
    "Dentro del laboratorio, una de las áreas de estudio es la concentración de poblaciones de 2 especies distintas, denominadas $x_1$ y $x_2$ respectivamente. En este estudio estuvieron involucrados 2 científicos, los cuales propusieron 6 ecuaciones diferenciales usando enfoques distintos. Lamentablemente, los científicos no lograron un consenso en la formulación del modelo. Por ende, le piden a usted analizar la propuesta y tomar una decisión. Las ecuaciones obtenidas para cualquier cantidad de días $t\\in[0,T]$ son:\n",
    "\n",
    "$$\n",
    "\\dot{x_1} = \\alpha(x_1,x_2)+\\displaystyle\\sum_{i=1}^{n}{\\delta_{1,i}\\cdot\\alpha(w_i,x_1)}-\\beta_1\\cdot x_1\n",
    "$$\n",
    "$$\n",
    "\\dot{x_1} = \\alpha(x_1,x_2)+\\displaystyle\\sum_{i=1}^{n}{\\gamma_{1,i}\\cdot\\alpha(w_i,x_1)}-\\beta_1\\cdot x_1\n",
    "$$\n",
    "$$\n",
    "\\dot{x_2} = \\alpha(x_2,x_1)+\\displaystyle\\sum_{i=1}^{n}{\\delta_{2,i}\\cdot\\alpha(w_i,x_2)}-\\beta_2\\cdot x_2\n",
    "$$\n",
    "$$\n",
    "\\dot{x_2} = \\alpha(x_2,x_1)+\\displaystyle\\sum_{i=1}^{n}{\\gamma_{2,i}\\cdot\\alpha(w_i,x_2)}-\\beta_2\\cdot x_2\n",
    "$$\n",
    "$$\n",
    "\\dot{x_1}+\\dot{x_2} = \\displaystyle\\sum_{i=1}^{n}{\\epsilon_{i}\\cdot\\alpha(w_i,\\dfrac{x_1+x_2}{2})}-\\phi\\cdot \\dfrac{x_2-x_1}{2}\n",
    "$$\n",
    "$$\n",
    "\\dot{x_1}+\\dot{x_2} = \\displaystyle\\sum_{i=1}^{n}{\\psi_{i}\\cdot\\alpha(w_i,\\dfrac{x_2-x_1}{2})}-\\sigma\\cdot \\dfrac{x_1+x_2}{2}\n",
    "$$\n",
    "\n",
    "donde $\\alpha(x_1, x_2)$ es una función que cuantifica la interacción entre ambas poblaciones.\n",
    "\n",
    "Una posible alternativa sería utilizar solo 2 ecuaciones que involucren utilizar solo a $\\dot{x_1}$ y a $\\dot{x_2}$, pero esa alternativa queda descartada. Por lo tanto, se le solicita a usted utilizar la información de las 6 ecuaciones diferenciales planteadas para construir las mejores derivadas $\\bar{\\dot{x_1}}$ y $\\bar{\\dot{x_2}}$ que aproximen estas ecuaciones con el menor error cuadrático posible.\n",
    "\n",
    "Como información de utilidad, los científicos sí se pusieron de acuerdo en los valores iniciales para las poblaciones a estudiar: $x_1(0) = x_{1,0}$ y $x_2(0) = x_{2,0}$.\n"
   ]
  },
  {
   "attachments": {},
   "cell_type": "markdown",
   "metadata": {
    "cell_id": "7fba1154f1c948ffa1f30f139bae590c",
    "deepnote_cell_type": "markdown"
   },
   "source": [
    "#### 3.1 Explique teóricamente cómo obtener $\\bar{\\dot{x_1}}$ y $\\bar{\\dot{x_2}}$, basándose en la información entregada anteriormente. (30 puntos)\n",
    "\n",
    "Respuesta: \n",
    "\n"
   ]
  },
  {
   "attachments": {},
   "cell_type": "markdown",
   "metadata": {
    "cell_id": "5b16e5c2b9b64c73b3dd922cf737e123",
    "deepnote_cell_type": "markdown"
   },
   "source": [
    "#### 3.2 Implemente la función $\\verb|f_populations|$, donde se implementa de forma explícita el lado derecho del sistema dinámico para $\\bar{\\dot{x_1}}$ y $\\bar{\\dot{x_2}}$. Los parámetros que recibe esta función están definidos en la firma respectiva de la función. Notar que el valor del parámetro $n$ se define en función de los vectores $\\delta$, $\\gamma$, $\\epsilon$ y $\\psi$. (15 puntos)"
   ]
  },
  {
   "cell_type": "code",
   "execution_count": 13,
   "metadata": {
    "cell_id": "b90e5cee8c1a43678e69a25a88e98b64",
    "deepnote_cell_type": "code",
    "deepnote_to_be_reexecuted": false,
    "execution_millis": 47,
    "execution_start": 1686780489827,
    "source_hash": "7ac9dd41"
   },
   "outputs": [],
   "source": [
    "def alpha(x1,x2):\n",
    "    return np.cos(x2*x1)/np.sqrt(np.power(np.cos(x2*x1),2)+np.power(np.cos(0.05),2))\n",
    "\n",
    "# Codigo solicitado\n",
    "\n",
    "def f_populations(t, y, w, alpha, beta1, beta2, delta1, delta2, gamma1, gamma2, epsilon, psi, phi, sigma):\n",
    "    '''\n",
    "    INPUT:\n",
    "    t      : double  \n",
    "             Independent variable t.\n",
    "    y      : ndarray \n",
    "             Input vector that contains x1=y[0] and x2=y[1].\n",
    "    w      : ndarray \n",
    "             Coefficients vector w.\n",
    "    alpha  : funcion \n",
    "             Function already implemented that receives x1 and x2\n",
    "    beta1  : double\n",
    "             Coefficient beta_1.\n",
    "    beta2  : double\n",
    "             Coefficient beta_2.\n",
    "    delta1 : ndarray\n",
    "             Coefficients vector delta_1.\n",
    "    delta2 : ndarray\n",
    "             Coefficients vector delta_2.\n",
    "    gamma1 : ndarray\n",
    "             Coefficients vector gamma_1.\n",
    "    gamma2 : ndarray\n",
    "             Coefficients vector gamma_2.\n",
    "    epsilon: ndarray\n",
    "             Coefficients vector epsilon.\n",
    "    psi    : ndarray\n",
    "             Coefficients vector psi.\n",
    "    sigma  : double\n",
    "             Coefficient sigma.\n",
    "    phi    : double\n",
    "             Coefficient phi.\n",
    "    OUTPUT:\n",
    "    y_dot  : ndarray\n",
    "             Output vector that implements the right hand side of the resulting dynamical system that minimizes the squared error.    '''\n",
    "    # Tu codigo aqui\n",
    "\n",
    "    return y_dot"
   ]
  },
  {
   "attachments": {},
   "cell_type": "markdown",
   "metadata": {
    "cell_id": "fb11b5a09a0f4d60994c617e6a1cedbb",
    "deepnote_cell_type": "markdown"
   },
   "source": [
    "#### 3.3 Entregue el valor de $\\bar{x_1}(10)$ y de $\\bar{x_2}(10)$, considerando que $\\bar{x_1}(0)=400$ y $\\bar{x_2}(0)=300$ y que utiliza $\\verb|solve_ivp|$ de Scipy. El código necesario para obtener el resultado esperado debe considerar los siguientes datos: (5 puntos)"
   ]
  },
  {
   "cell_type": "code",
   "execution_count": 14,
   "metadata": {
    "cell_id": "213af4071483491c8ef718c73ce94541",
    "deepnote_cell_type": "code",
    "deepnote_to_be_reexecuted": false,
    "execution_millis": 925,
    "execution_start": 1686780489872,
    "source_hash": "deffb5d0"
   },
   "outputs": [],
   "source": [
    "# No modificar\n",
    "\n",
    "beta1 = 0.25\n",
    "beta2 = 0.75\n",
    "phi = 0.341\n",
    "sigma = 1.41\n",
    "w = np.array([1.5, 1.625, 1.75, 1.875, 2.])\n",
    "delta1 = np.array([1.2701176891, 0.28811319, 0.7046913486, 1.6134431034, 1.3446417529])\n",
    "delta2 = np.array([-0.7036400735, 0.6840636606, -0.10897719, -0.0743175733, 0.2956309214])\n",
    "gamma1 = np.array([0.1037113712, 1.047076925, 0.5479471621, 0.0876060119, 0.3195815276])\n",
    "gamma2 = np.array([0.2402455157, 1.0757369327, -0.1477139499, 0.2254087452, -0.6149489323])\n",
    "epsilon = np.array([-1.8381526674, 0.4706053887, 0.6223940632, -0.5343588147, 1.6342233293])\n",
    "psi = np.array([1.521645759, 1.2701176891, -0.7036400735, 0.1037113712, 0.2402455157])\n",
    "\n",
    "# Hacer aqui experimentos\n",
    "\n"
   ]
  },
  {
   "attachments": {},
   "cell_type": "markdown",
   "metadata": {
    "cell_id": "bd6eab78abd64e4192e7503a8cff49ba",
    "deepnote_cell_type": "markdown"
   },
   "source": [
    "### ¡Ha llegado al final de la tarea 4! No olvide guardar este archivo y enviarlo antes de las 18:00 hrs. ¡Mucho éxito!"
   ]
  },
  {
   "attachments": {},
   "cell_type": "markdown",
   "metadata": {
    "created_in_deepnote_cell": true,
    "deepnote_cell_type": "markdown"
   },
   "source": [
    "<a style='text-decoration:none;line-height:16px;display:flex;color:#5B5B62;padding:10px;justify-content:end;' href='https://deepnote.com?utm_source=created-in-deepnote-cell&projectId=cec3c244-b1da-4213-b94c-4ae359502136' target=\"_blank\">\n",
    "<img alt='Created in deepnote.com' style='display:inline;max-height:16px;margin:0px;margin-right:7.5px;' src='data:image/svg+xml;base64,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' > </img>\n",
    "Created in <span style='font-weight:600;margin-left:4px;'>Deepnote</span></a>"
   ]
  }
 ],
 "metadata": {
  "deepnote": {},
  "deepnote_execution_queue": [],
  "deepnote_notebook_id": "4c9a890ec9c24c35a9a5b568c62fd074",
  "deepnote_persisted_session": {
   "createdAt": "2023-06-14T22:30:10.163Z"
  },
  "kernelspec": {
   "display_name": "Python 3 (ipykernel)",
   "language": "python",
   "name": "python3"
  },
  "language_info": {
   "codemirror_mode": {
    "name": "ipython",
    "version": 3
   },
   "file_extension": ".py",
   "mimetype": "text/x-python",
   "name": "python",
   "nbconvert_exporter": "python",
   "pygments_lexer": "ipython3",
   "version": "3.10.6"
  }
 },
 "nbformat": 4,
 "nbformat_minor": 1
}
