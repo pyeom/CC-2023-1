{
 "cells": [
  {
   "cell_type": "markdown",
   "metadata": {
    "cell_id": "46c0411e91344c20866940cdec293f02",
    "deepnote_cell_type": "markdown"
   },
   "source": [
    "<center>\n",
    "    <img src=\"http://sct.inf.utfsm.cl/wp-content/uploads/2020/04/logo_di.png\" style=\"width:60%\">\n",
    "    <h1> INF285 - Computación Científica </h1>\n",
    "    <h2> Tarea 2 - Código Base</h2>\n",
    "    <h2> [S]cientific [C]omputing [T]eam </a> </h2>\n",
    "    <h2> Version: 1.00</h2>\n",
    "</center>"
   ]
  },
  {
   "cell_type": "markdown",
   "metadata": {
    "cell_id": "a792639a9fb048d7b0e24bc6ec96fe74",
    "deepnote_cell_type": "markdown"
   },
   "source": [
    "# Contexto\n",
    "\n",
    "Históricamente, varios videojuegos han explorado la idea de generar contenido automáticamente. Por ejemplo, Minecraft puede generar mundos aleatorios a explorar. Por otro lado, **Rogue, videojuego de mazmorras de 1980, genera sus mapas de manera procedural, e inspiró todo un género de videojuegos llamado _roguelike_ (similar a Rogue).**\n",
    "\n",
    "![Rogue](img/rogue.png)\n",
    "\n",
    "<div align=\"center\">\n",
    "Figura 1. Mazmorra generada automáticamente en el juego <i>Rogue</i>.\n",
    "</div>\n",
    "\n",
    "**Para la tarea 2, considere que usted es parte de una empresa de videojuegos, y ustedes quieren crear un nuevo juego _roguelike_. Pero necesitan ayuda para generar mazmorras de manera aleatoria, y usted es la persona indicada para resolver el problema.**\n",
    "\n",
    "**Su primer avance consiste en generar las habitaciones individuales de las mazmorras.** En esta ocasión no es importante distribuir estas habitaciones apropiadamente en un mapa, crear puertas y caminos, etc.\n",
    "\n",
    "Investigando sobre el tema, una buena forma de generar nuevas habitaciones es **interpolando _linealmente_ habitaciones ya existentes** mediante un **“análisis de las componentes principales” (PCA) de las habitaciones**.\n",
    "\n",
    "![Interpolation](img/interpolation.png)\n",
    "\n",
    "<div align=\"center\">\n",
    "Figura 2. Interpolación entre dos habitaciones creadas por humanos. \n",
    "Las habitaciones en los extremos son creadas por humanos, mientras que las habitaciones entre medio representan estados intermedios equiespaciados con una interpolación lineal convexa. \n",
    "Imagen extraída del paper <a href=\"https://proceduraldoctoratelabyrinth.files.wordpress.com/2014/11/sampling-hyrule-sampling.pdf\"><i>Sampling Hyrule: Sampling Probabilistic Machine Learning for Level Generation</i></a>.\n",
    "</div>\n",
    "\n",
    "Dado un conjunto de datos, organizados como filas en una matriz, PCA es una técnica para expresar cada dato (o vector fila de la matriz de datos) como una combinación lineal de sus **“componentes principales”**: los vectores que aportan en mayor medida a la variación entre estos datos.\n",
    "Usualmente, esto se hace para reducir la dimensionalidad de los datos y así comprimirlos en una representación de bajo consumo de memoria RAM, conservando solo las proyecciones sobre las componentes principales más importantes y descartando las demás.\n",
    "**Al descartar las componentes menos importantes, hay pérdida de información, por lo que se debe buscar una cantidad adecuada de componentes para mantener un equilibrio entre una representación lo suficientemente fiel de los datos originales, y una buena compresión de estos.**\n",
    "\n",
    "En este caso, usted necesita encontrar las **componentes principales** con los que se puede generar cada habitación, así como los **coeficientes** que participan en la reconstrucción.\n",
    "Si se varían estos coeficientes, es decir, si se varía la cantidad a utilizar de cada componente principal, se generan nuevas habitaciones.\n",
    "**La idea es tomar los vectores de coeficientes de dos habitaciones distintas, e interpolarlos linealmente _de forma convexa_ para generar una habitación intermedia entre estas dos.**\n",
    "\n",
    "Usted ya tiene algo de código implementado para leer un dataset y dibujar la imagen de una habitación, así que es hora de resolver este problema. \n",
    "**¡Pero rápido, que hoy a las 18:00 hrs tiene una reunión con su equipo donde debe entregar sus avances!**\n",
    "\n",
    "<div class=\"alert alert-block alert-info\">Las habitaciones fueron adaptadas del primer juego de <i>The Legend of Zelda</i>. Todas las mazmorras (dungeons) están disponibles en esta página: <a href=https://zelda.fandom.com/wiki/Dungeons_in_The_Legend_of_Zelda>https://zelda.fandom.com/wiki/Dungeons_in_The_Legend_of_Zelda</a></div>\n",
    "\n",
    "<div class=\"alert alert-block alert-info\"><ul><li>El piso y la pared fueron obtenidos del tileset <i>Top-Down Dungeon Tileset</i>, de Enjl: <a href=https://enjl.itch.io/tileset-top-down-dungeon>https://enjl.itch.io/tileset-top-down-dungeon</a>\n",
    "<li>El enemigo fue obtenido del tileset <i>16x16 DungeonTileset II</i>, de 0x72: <a href=https://0x72.itch.io/dungeontileset-ii>https://0x72.itch.io/dungeontileset-ii</a>\n",
    "<li>La moneda fue obtenida del tileset <i>2D Pixel Dungeon Asset Pack</i>, de Pixel_Poem: <a href=https://pixel-poem.itch.io/dungeon-assetpuck>https://pixel-poem.itch.io/dungeon-assetpuck</a></ul><br/>Todos estos tilesets se encuentran gratis en <a href=https://itch.io>https://itch.io</a>.</div>"
   ]
  },
  {
   "cell_type": "markdown",
   "metadata": {
    "cell_id": "1e51d478eeb747a0b6a78b0a0c1a23f8",
    "deepnote_cell_type": "markdown"
   },
   "source": [
    "## Librerías, variables y funciones predefinidas (NO MODIFICAR)"
   ]
  },
  {
   "cell_type": "code",
   "execution_count": 23,
   "metadata": {
    "cell_id": "3cf92d63d8f14de4addaaec0cadd1007",
    "deepnote_cell_type": "code",
    "deepnote_to_be_reexecuted": false,
    "execution_millis": 681,
    "execution_start": 1682368944655,
    "source_hash": "426b60ab"
   },
   "outputs": [],
   "source": [
    "import numpy as np\n",
    "import matplotlib.pyplot as plt\n",
    "from PIL import Image"
   ]
  },
  {
   "cell_type": "code",
   "execution_count": 24,
   "metadata": {
    "cell_id": "f9782d0e1eae4ad0b521dd787b36f276",
    "deepnote_cell_type": "code",
    "deepnote_to_be_reexecuted": false,
    "execution_millis": 63,
    "execution_start": 1682368945274,
    "source_hash": "55c69bbf"
   },
   "outputs": [],
   "source": [
    "WIDTH = 12\n",
    "HEIGHT = 10"
   ]
  },
  {
   "cell_type": "code",
   "execution_count": 25,
   "metadata": {
    "cell_id": "3b6014c31ee84504b7960e1363d00398",
    "deepnote_cell_type": "code",
    "deepnote_to_be_reexecuted": false,
    "execution_millis": 61,
    "execution_start": 1682368945275,
    "source_hash": "b40a4a37"
   },
   "outputs": [],
   "source": [
    "def read_dataset(filename):\n",
    "    \"\"\"\n",
    "    Parameters\n",
    "    ----------\n",
    "    filename:   string\n",
    "                name of the text file to read (room_dataset.txt)\n",
    "    ----------\n",
    "    Returns\n",
    "    DATASET:    ndarray\n",
    "                matrix of rooms with the numbers 0, 1, 2 and 3\n",
    "    \"\"\"\n",
    "    DATASET = np.empty((0, WIDTH*HEIGHT), dtype=int)\n",
    "    \n",
    "    with open(filename) as file:\n",
    "        room = np.empty((HEIGHT, WIDTH), dtype=int)\n",
    "        i = 0\n",
    "\n",
    "        for line in file:\n",
    "            line = line.strip()\n",
    "            if line == '':\n",
    "                continue\n",
    "\n",
    "            line = line.strip()\n",
    "            room[i] = np.array(list(map(int, list(line))))\n",
    "            i += 1\n",
    "            if i == HEIGHT:\n",
    "                block = np.empty((4, WIDTH*HEIGHT), dtype=int)\n",
    "                block[0] = room.flatten()\n",
    "                block[1] = np.flip(room, 0).flatten() # Reflejar en el eje Y\n",
    "                block[2] = np.flip(room, 1).flatten() # Reflejar en el eje X\n",
    "                block[3] = block[0, ::-1] # Rotar en 180 grados\n",
    "                DATASET = np.concatenate((DATASET, block))\n",
    "                room = np.empty((HEIGHT, WIDTH), dtype=int)\n",
    "                i = 0\n",
    "                \n",
    "    return DATASET"
   ]
  },
  {
   "cell_type": "code",
   "execution_count": 26,
   "metadata": {
    "cell_id": "c389768874274d0888fe197f0edc8f0e",
    "deepnote_cell_type": "code",
    "deepnote_to_be_reexecuted": false,
    "execution_millis": 60,
    "execution_start": 1682368945277,
    "source_hash": "19d49279"
   },
   "outputs": [],
   "source": [
    "tiles = {}\n",
    "for tile_name in ('floor', 'wall', 'enemy', 'coin'):\n",
    "    tiles[tile_name] = Image.open(f'img/{tile_name}.png').convert('RGBA')\n",
    "    tiles[tile_name].load()\n",
    "    \n",
    "def room_to_image(room):\n",
    "    \"\"\"\n",
    "    Parameters\n",
    "    ----------\n",
    "    room:   ndarray\n",
    "            matrix representing a room with the numbers 0, 1, 2 and 3\n",
    "    ----------\n",
    "    Returns\n",
    "    canvas: Image\n",
    "            image of the room\n",
    "    \"\"\"\n",
    "    assert room.shape == (HEIGHT, WIDTH)\n",
    "    \n",
    "    canvas = Image.new('RGBA', (16*WIDTH, 16*HEIGHT))\n",
    "    \n",
    "    for i in range(WIDTH):\n",
    "        for j in range(HEIGHT):\n",
    "            canvas.paste(tiles['floor'], (i*16, j*16))\n",
    "\n",
    "    for tile_number, tile_name in ((2, 'enemy'), (3, 'coin'), (1, 'wall')):\n",
    "        J, I = np.nonzero(room == tile_number)\n",
    "        for x in range(I.size):\n",
    "            canvas.alpha_composite(tiles[tile_name], (I[x]*16, J[x]*16))\n",
    "            \n",
    "    canvas = canvas.resize((2*16*WIDTH, 2*16*HEIGHT), resample=Image.Resampling.BOX)\n",
    "    return canvas"
   ]
  },
  {
   "cell_type": "code",
   "execution_count": 27,
   "metadata": {
    "cell_id": "49aa3af5bf7b4ad8807521b804842049",
    "deepnote_cell_type": "code",
    "deepnote_to_be_reexecuted": false,
    "execution_millis": 46,
    "execution_start": 1682426159340,
    "source_hash": "d0f2cac6"
   },
   "outputs": [],
   "source": [
    "def split_dataset(DATASET):\n",
    "    \"\"\"\n",
    "    Parameters\n",
    "    ----------\n",
    "    DATASET:    ndarray\n",
    "                matrix of rooms with the numbers 0, 1, 2 and 3\n",
    "    ----------\n",
    "    Returns\n",
    "    WALLS:      ndarray\n",
    "                matrix of walls\n",
    "    ENEMIES:    ndarray\n",
    "                matrix of enemies\n",
    "    COINS:      ndarray\n",
    "                matrix of coins\n",
    "    \"\"\"\n",
    "    WALLS = np.where(DATASET == 1, 1, 0) # en donde DATASET es 1 colocar un 1, y donde no lo es, colocar un 0\n",
    "    ENEMIES = np.where(DATASET == 2, 1, 0) # ídem\n",
    "    COINS = np.where(DATASET == 3, 1, 0) # ídem\n",
    "    \n",
    "    return WALLS, ENEMIES, COINS"
   ]
  },
  {
   "cell_type": "code",
   "execution_count": 28,
   "metadata": {
    "cell_id": "14c02ae28acc4b4aac3fa7ce10654e36",
    "deepnote_cell_type": "code",
    "deepnote_to_be_reexecuted": false,
    "execution_millis": 90,
    "execution_start": 1682520756534,
    "source_hash": "50d45c27"
   },
   "outputs": [],
   "source": [
    "def join_distributions(wall_row, enemy_row, coin_row):\n",
    "    \"\"\"\n",
    "    Parameters\n",
    "    ----------\n",
    "    wall_row:   ndarray\n",
    "                1D array representing a wall distribution\n",
    "    enemy_row:  ndarray\n",
    "                1D array representing an enemy distribution\n",
    "    coin_row:   ndarray\n",
    "                1D array representing a coin distribution\n",
    "    ----------\n",
    "    Returns\n",
    "    room_row:   ndarray\n",
    "                1D array representing a room with the numbers 0, 1, 2 and 3\n",
    "    \"\"\"\n",
    "    room_row = np.zeros(HEIGHT*WIDTH, dtype=int)\n",
    "    room_row[enemy_row == 1] = 2\n",
    "    room_row[coin_row == 1] = 3\n",
    "    room_row[wall_row == 1] = 1\n",
    "    \n",
    "    return room_row"
   ]
  },
  {
   "cell_type": "markdown",
   "metadata": {
    "cell_id": "1d9cba7ae9b642eb9ed4778f379a35ca",
    "deepnote_cell_type": "markdown"
   },
   "source": [
    " "
   ]
  },
  {
   "cell_type": "markdown",
   "metadata": {
    "cell_id": "7f97e0d2609c461d90aaa4ab58e7e0ee",
    "deepnote_cell_type": "markdown"
   },
   "source": [
    "## PROBLEMA 1. Exploración de datos (total: 5 puntos)\n",
    "\n",
    "En el archivo *room_dataset.txt* hay varias representaciones de habitaciones de **12 casillas de ancho y 10 de alto**. Su formato es similar a este:\n",
    "```\n",
    "000000002000\n",
    "011100301110\n",
    "010020020010\n",
    "010111111010\n",
    "010111111010\n",
    "010111111010\n",
    "010111111010\n",
    "010000000010\n",
    "011100001110\n",
    "000000000000\n",
    "```\n",
    "donde $0$ representa una casilla vacía (piso), $1$ representa una pared, $2$ un enemigo y $3$ una moneda.\n",
    "\n",
    "La función $\\verb|read_dataset|$ lee el archivo *room_dataset.txt*. Para poder manejar todo el volumen de información, **cada habitación se transforma en un vector fila de $12 \\cdot 10 = 120$ componentes, y todos los vectores se apilan en una matriz de NumPy, denominada $\\verb|DATASET|$**.\n",
    "\n",
    "Además, para aumentar el tamaño del dataset, cada habitación se refleja vertical y horizontalmente, y se rota en 180°; con ello el tamaño de la base de datos aumenta en un factor de 4.\n",
    "\n",
    "Reiterando: **cada fila en $\\verb|DATASET|$ representa una habitación completa.**"
   ]
  },
  {
   "cell_type": "code",
   "execution_count": 29,
   "metadata": {
    "cell_id": "195086b33a764cf884803f3cc53379c2",
    "deepnote_cell_type": "code",
    "deepnote_to_be_reexecuted": false,
    "execution_millis": 63,
    "execution_start": 1682368945275,
    "source_hash": "5bd40a4e"
   },
   "outputs": [
    {
     "data": {
      "text/plain": [
       "(392, 120)"
      ]
     },
     "execution_count": 29,
     "metadata": {},
     "output_type": "execute_result"
    }
   ],
   "source": [
    "# No olvidar ejecutar este código\n",
    "DATASET = read_dataset('room_dataset.txt')\n",
    "DATASET.shape"
   ]
  },
  {
   "cell_type": "markdown",
   "metadata": {
    "cell_id": "6d73b2c6dc56460d91f06b26db08e5d2",
    "deepnote_cell_type": "markdown"
   },
   "source": [
    "### Pregunta 1 (5 puntos)\n",
    "\n",
    "La función $\\verb|room_to_image|$, implementada más arriba, **dibuja una imagen de una habitación**. La habitación debe estar representada por una matriz de 10 filas y 12 columnas. \n",
    "Sin embargo, las habitaciones en $\\verb|DATASET|$ están en forma de fila. \n",
    "Para poder dibujar una habitación con $\\verb|room_to_image|$ se requiere convertir esa fila a una matriz con el tamaño apropiado.\n",
    "\n",
    "Implemente la función $\\verb|vector_to_room|$ que realiza esa tarea de forma vectorizada. **Necesitará esta función en el resto de esta tarea.**\n",
    "\n",
    "Luego, use las funciones mencionadas para dibujar la 1° habitación de $\\verb|DATASET|$."
   ]
  },
  {
   "cell_type": "code",
   "execution_count": 30,
   "metadata": {
    "cell_id": "20b2668c87e64492a9861e880f44fa28",
    "deepnote_cell_type": "code",
    "deepnote_to_be_reexecuted": false,
    "execution_millis": 62,
    "execution_start": 1682368945276,
    "source_hash": "e36da7ec"
   },
   "outputs": [],
   "source": [
    "def vector_to_room(vector):\n",
    "    \"\"\"\n",
    "    Parameters\n",
    "    ----------\n",
    "    vector    :ndarray\n",
    "               row in the DATASET\n",
    "    Returns\n",
    "    -------\n",
    "    room   :ndarray\n",
    "            matrix representing the room\n",
    "    \"\"\"\n",
    "    room = np.reshape(vector, (HEIGHT, WIDTH))\n",
    "\n",
    "    return room"
   ]
  },
  {
   "cell_type": "code",
   "execution_count": 31,
   "metadata": {
    "cell_id": "6eb4471ba4e040cb9c3150cdff5a500e",
    "deepnote_cell_type": "code",
    "deepnote_to_be_reexecuted": false,
    "execution_millis": 43,
    "execution_start": 1682387479362,
    "source_hash": "71b6388e"
   },
   "outputs": [],
   "source": [
    "# Código para dibujar la 1° habitación\n",
    "imagen = vector_to_room(DATASET[0])\n",
    "imagen = room_to_image(imagen)"
   ]
  },
  {
   "cell_type": "markdown",
   "metadata": {
    "cell_id": "46c7366684174ae98665fe4ed1d8f6d9",
    "deepnote_cell_type": "markdown"
   },
   "source": [
    "## PROBLEMA 2. Análisis de distribuciones de paredes, enemigos y monedas (total: 55 puntos)\n",
    "En esta parte se debe **analizar por separado las distribuciones de paredes, enemigos y monedas en las habitaciones**.\n",
    "Es decir, se separará $\\verb|DATASET|$ en tres matrices distintas, que luego se pueden volver a unir para reconstruir la matriz original.\n",
    "\n",
    "Para cada una de las matrices, la idea es encontrar la _receta_ para generar una nueva distribución espacial de paredes/enemigos/monedas, es decir, encontrar las **componentes principales** de cada conjunto de datos, y los correspondientes **coeficientes** proyectados sobre las componentes principales de cada caso (paredes, enemigos o monedas).\n",
    "\n",
    "Con esta información se podrá generar nuevas habitaciones más adelante."
   ]
  },
  {
   "cell_type": "markdown",
   "metadata": {
    "cell_id": "f240720ca72f4f459e3be8ff0a92e4a9",
    "deepnote_cell_type": "markdown"
   },
   "source": [
    "### Pregunta 2.1 (5 puntos)\n",
    "Use la función $\\verb|split_dataset|$, ya implementada al inicio del archivo, para separar $\\verb|DATASET|$ en tres **matrices de distribuciones**: una matriz con las paredes ($\\verb|WALLS|$), una con los enemigos ($\\verb|ENEMIES|$), y una con las monedas ($\\verb|COINS|$).\n",
    "\n",
    "<div class=\"alert alert-block alert-info\"><b>Una distribución es la manera en que se reparten las paredes, enemigos o monedas en una habitación.</b><br/>\n",
    "<b>Las 3 matrices WALLS, ENEMIES y COINS son binarias, es decir, sus coeficientes pertenecen al conjunto {0, 1}.</b>\n",
    "Por ejemplo, la matriz de distribución de enemigos (ENEMIES) contiene un 1 en las posiciones donde hay enemigos, y un 0 donde no los hay.\n",
    "Ídem con la matriz de distribución de paredes (WALLS) y la de monedas (COINS). <br/>\n",
    "<b>Cada fila de la matriz WALLS representa una distribución de paredes para la habitación correspondiente, y lo mismo con ENEMIES y COINS.</b>\n",
    "</div>\n",
    "\n",
    "Luego use $\\verb|plt.imshow|$ para graficar la distribución de paredes de la 1° habitación. Recuerde que el arreglo que representa la habitación debe tener la forma apropiada."
   ]
  },
  {
   "cell_type": "code",
   "execution_count": 32,
   "metadata": {
    "cell_id": "32e8abb9a078464791c22052e6d184d2",
    "deepnote_cell_type": "code"
   },
   "outputs": [],
   "source": [
    "# Código para definir WALLS, ENEMIES y COINS\n",
    "WALLS, ENEMIES, COINS = split_dataset(DATASET)"
   ]
  },
  {
   "cell_type": "code",
   "execution_count": 33,
   "metadata": {
    "cell_id": "7295b97623254a8297910f2700224f5a",
    "deepnote_cell_type": "code",
    "deepnote_to_be_reexecuted": false,
    "execution_millis": 22,
    "execution_start": 1682368945276,
    "output_cleared": true,
    "source_hash": "560e0989"
   },
   "outputs": [
    {
     "data": {
      "text/plain": [
       "<matplotlib.image.AxesImage at 0x1a1896ba590>"
      ]
     },
     "execution_count": 33,
     "metadata": {},
     "output_type": "execute_result"
    },
    {
     "data": {
      "image/png": "[encoded data removed]",
      "text/plain": [
       "<Figure size 432x288 with 1 Axes>"
      ]
     },
     "metadata": {
      "needs_background": "light"
     },
     "output_type": "display_data"
    }
   ],
   "source": [
    "# Código para inspeccionar la distribución de paredes de la 1° habitación\n",
    "plt.imshow(vector_to_room(WALLS[0]))"
   ]
  },
  {
   "cell_type": "markdown",
   "metadata": {
    "cell_id": "3149095430bc46339cfc736aebc44d69",
    "deepnote_cell_type": "markdown"
   },
   "source": [
    "### Pregunta 2.2 (20 puntos)\n",
    "Ahora se debe realizar PCA a cada matriz de distribuciones por separado (paredes, enemigos, monedas), para encontrar características comunes en cada una.\n",
    "\n",
    "Implemente la función $\\verb|PCA|$, que debe recibir como parámetros:\n",
    "- una matriz $M$ de distribuciones generada en 2.1\n",
    "- la cantidad $m$ de componentes principales a obtener\n",
    "\n",
    "La función $\\verb|PCA|$ debe descomponer la matriz en tres matrices:\n",
    "- $V$, que contiene las $m$ componentes principales de la matriz $M$\n",
    "- $Y$, matriz de coeficientes para generar cada una de las filas (distribuciones) de la matriz original $M$\n",
    "- $\\mu$, arreglo de NumPy de medias de cada columna de $M$\n",
    "\n",
    "<div class=\"alert alert-block alert-danger\"><b>Está prohibido usar funciones ya prefabricadas como sklearn.decomposition.PCA para implementar la función PCA.</b>\n",
    "</div>\n",
    "\n",
    "<div class=\"alert alert-block alert-info\">En su implementación debe usar la función np.linalg.svd. <b>¡La SVD debe ser reducida!</b> Revise la documentación para saber más detalles: <a href=https://numpy.org/doc/stable/reference/generated/numpy.linalg.svd.html>https://numpy.org/doc/stable/reference/generated/numpy.linalg.svd.html</a>\n",
    "</div>\n",
    "\n"
   ]
  },
  {
   "cell_type": "code",
   "execution_count": 34,
   "metadata": {
    "cell_id": "7e62b645bfd14f039d8fad21581d82f5",
    "deepnote_cell_type": "code",
    "deepnote_to_be_reexecuted": false,
    "execution_millis": 183,
    "execution_start": 1682368945344,
    "source_hash": "da0233fc"
   },
   "outputs": [],
   "source": [
    "def PCA(M, m):\n",
    "    \"\"\"\n",
    "    Parameters\n",
    "    ----------\n",
    "    M         :ndarray\n",
    "               matrix from 2.1\n",
    "    m         :int\n",
    "               amount of principal components to keep\n",
    "    Returns\n",
    "    -------\n",
    "    V         :ndarray\n",
    "               Matrix of first m principal components\n",
    "    Y         :ndarray\n",
    "               Matrix of principal component coefficients\n",
    "    mu        :ndarray\n",
    "               1D array of averages per column of M\n",
    "    \"\"\"\n",
    "    mu = np.mean(M, axis=0)\n",
    "    center = M - mu\n",
    "\n",
    "    _, _, V = np.linalg.svd(center, False)\n",
    "    \n",
    "    V = V[:m, :]\n",
    "    V = np.transpose(V)\n",
    "\n",
    "    Y = np.dot(center, V)\n",
    "\n",
    "    return V, Y, mu"
   ]
  },
  {
   "cell_type": "markdown",
   "metadata": {
    "cell_id": "5c99a007a2d34ff8834aaf4385f12ecc",
    "deepnote_cell_type": "markdown"
   },
   "source": [
    "### Pregunta 2.3 (5 puntos)\n",
    "Ahora realice un PCA de 32 componentes sobre la matriz de distribuciones de paredes.\n",
    "\n",
    "Luego, obtenga la 1° componente principal y muéstrela con $\\verb|plt.imshow|$."
   ]
  },
  {
   "cell_type": "code",
   "execution_count": 35,
   "metadata": {
    "cell_id": "57b8bb535fc64b9bb7c730adf6b29abc",
    "deepnote_cell_type": "code",
    "deepnote_to_be_reexecuted": false,
    "execution_millis": 439,
    "execution_start": 1682368945343,
    "source_hash": "ad0e563f"
   },
   "outputs": [],
   "source": [
    "# PCA sobre WALLS\n",
    "walls_V, walls_Y, walls_mu = PCA(WALLS, 32)"
   ]
  },
  {
   "cell_type": "code",
   "execution_count": 36,
   "metadata": {
    "cell_id": "1bc858183cf4437f9876efdbe3e75ea1",
    "deepnote_cell_type": "code",
    "deepnote_to_be_reexecuted": false,
    "execution_millis": 256,
    "execution_start": 1682368945526,
    "output_cleared": true,
    "source_hash": "8682a915"
   },
   "outputs": [
    {
     "data": {
      "text/plain": [
       "<matplotlib.image.AxesImage at 0x1a18b88e9b0>"
      ]
     },
     "execution_count": 36,
     "metadata": {},
     "output_type": "execute_result"
    },
    {
     "data": {
      "image/png": "[encoded data removed]",
      "text/plain": [
       "<Figure size 432x288 with 1 Axes>"
      ]
     },
     "metadata": {
      "needs_background": "light"
     },
     "output_type": "display_data"
    }
   ],
   "source": [
    "# Graficar 1° componente principal de WALLS\n",
    "plt.imshow(vector_to_room(walls_V[:, 0]))"
   ]
  },
  {
   "cell_type": "markdown",
   "metadata": {
    "cell_id": "3bf6f587520e487faf6dc3a3c8a8d2c1",
    "deepnote_cell_type": "markdown"
   },
   "source": [
    "### Pregunta 2.4 (20 puntos)\n",
    "Para verificar que todo salió bien, hace falta una implementación que reconstruya (usando las $m$ componentes seleccionadas previamente) cualquier fila de la matriz original $M$, que representa la distribución original correspondiente de paredes, enemigos o monedas.\n",
    "Para ello se requieren las componentes principales y los coeficientes correspondientes a esa distribución.\n",
    "\n",
    "Implemente la función $\\verb|rebuild_ith_row|$, que debe reconstruir la fila $i$ (donde $i$ parte desde $0$) de la matriz cuyo PCA entregó anteriormente las matrices $V$, $Y$ y $\\mu$.\n",
    "\n",
    "Luego, reconstruya la distribución de paredes en la 1° habitación usando los resultados del PCA de la pregunta 2.3, y grafique el resultado con $\\verb|plt.imshow|$."
   ]
  },
  {
   "cell_type": "code",
   "execution_count": 37,
   "metadata": {
    "cell_id": "cfe8be8271724615b86b632b8aa1a62e",
    "deepnote_cell_type": "code",
    "deepnote_to_be_reexecuted": false,
    "execution_millis": 50,
    "execution_start": 1682431732122,
    "source_hash": "feb5aec3"
   },
   "outputs": [],
   "source": [
    "def rebuild_ith_row(V, Y, mu, i):\n",
    "    \"\"\"\n",
    "    Parameters\n",
    "    ----------\n",
    "    V         :ndarray\n",
    "               Matrix of first m principal components\n",
    "    Y         :ndarray\n",
    "               Matrix of principal component coefficients\n",
    "    mu        :ndarray\n",
    "               1D array of averages per column of the original distribution matrix\n",
    "    i         :int\n",
    "               Index of row to rebuild\n",
    "    Returns\n",
    "    -------\n",
    "    rebuilt_row:ndarray\n",
    "                1D array of the i-th distribution of walls/enemies/coins\n",
    "    \"\"\"\n",
    "    rebuilt_row = Y[i, :].dot(np.transpose(V)) + mu\n",
    "    return rebuilt_row"
   ]
  },
  {
   "cell_type": "code",
   "execution_count": 38,
   "metadata": {
    "cell_id": "2eceb021aabc403792b7dea08c746f3a",
    "deepnote_cell_type": "code",
    "deepnote_to_be_reexecuted": false,
    "execution_millis": 98,
    "execution_start": 1682368945688,
    "output_cleared": true,
    "source_hash": "47031f25"
   },
   "outputs": [
    {
     "data": {
      "text/plain": [
       "<matplotlib.image.AxesImage at 0x1a18b8fe1d0>"
      ]
     },
     "execution_count": 38,
     "metadata": {},
     "output_type": "execute_result"
    },
    {
     "data": {
      "image/png": "[encoded data removed]",
      "text/plain": [
       "<Figure size 432x288 with 1 Axes>"
      ]
     },
     "metadata": {
      "needs_background": "light"
     },
     "output_type": "display_data"
    }
   ],
   "source": [
    "# Código para reconstruir paredes de 1° habitación y graficarlas\n",
    "row = rebuild_ith_row(walls_V, walls_Y, walls_mu, 1)\n",
    "plt.imshow(vector_to_room(row))"
   ]
  },
  {
   "cell_type": "markdown",
   "metadata": {
    "cell_id": "8ceb41622b274bc8938b97859fbfb08a",
    "deepnote_cell_type": "markdown"
   },
   "source": [
    "### Pregunta 2.5 (5 puntos)\n",
    "Como se puede notar en 2.4, el gráfico tiene ruido, lo cual es normal. \n",
    "Ahora las casillas toman varios valores numéricos almacenados con el estandar de punto flotante. \n",
    "Sin embargo, es necesario que el resultado final sea simplemente una matriz binaria, con solo $0$s y $1$s.\n",
    "\n",
    "Implemente de forma vectorizada la función $\\verb|binarize|$ que convierte un arreglo de flotantes en un arreglo de $0$s y $1$s.\n",
    "\n",
    "Para confirmar que la función está bien implementada, aplique $\\verb|binarize|$ sobre la reconstrucción anterior de la 1° distribución de paredes para corregir sus valores, y grafique el nuevo resultado.\n",
    "\n",
    "<div class=\"alert alert-block alert-info\">El arreglo que genera la función rebuild_ith_row podría contener valores fuera del rango [0, 1]. \n",
    "Al usar un simple redondeo al entero más cercano, ¿realmente se puede asegurar que cada valor se redondeará <b>siempre</b> a 0 o a 1?\n",
    "</div>"
   ]
  },
  {
   "cell_type": "code",
   "execution_count": 39,
   "metadata": {
    "cell_id": "96419c674c174734bc7a4947f146a614",
    "deepnote_cell_type": "code",
    "deepnote_to_be_reexecuted": false,
    "execution_millis": 0,
    "execution_start": 1682431745120,
    "source_hash": "ccb170d1"
   },
   "outputs": [],
   "source": [
    "def binarize(arr):\n",
    "    \"\"\"\n",
    "    Parameters\n",
    "    ----------\n",
    "    arr       :ndarray\n",
    "               1D-array or 2D-array with floats\n",
    "    Returns\n",
    "    -------\n",
    "    binarized_arr:ndarray\n",
    "                  1D-array or 2D-array with values 0 or 1\n",
    "    \"\"\"\n",
    "    binarized_arr = np.where(arr >= 0.5, 1, 0)\n",
    "    return binarized_arr"
   ]
  },
  {
   "cell_type": "code",
   "execution_count": 40,
   "metadata": {
    "cell_id": "544a55214a5f4731abf38c146ffd40e6",
    "deepnote_cell_type": "code",
    "deepnote_to_be_reexecuted": false,
    "execution_millis": 105,
    "execution_start": 1682368945876,
    "output_cleared": true,
    "source_hash": "eaab4795"
   },
   "outputs": [
    {
     "data": {
      "text/plain": [
       "<matplotlib.image.AxesImage at 0x1a18b974850>"
      ]
     },
     "execution_count": 40,
     "metadata": {},
     "output_type": "execute_result"
    },
    {
     "data": {
      "image/png": "[encoded data removed]",
      "text/plain": [
       "<Figure size 432x288 with 1 Axes>"
      ]
     },
     "metadata": {
      "needs_background": "light"
     },
     "output_type": "display_data"
    }
   ],
   "source": [
    "# Código para mostrar la reconstrucción corregida de las paredes de la 1° habitación\n",
    "row = binarize(row)\n",
    "plt.imshow(vector_to_room(row))"
   ]
  },
  {
   "cell_type": "markdown",
   "metadata": {
    "cell_id": "eb87e0bd007b4f938f900676f5241bd3",
    "deepnote_cell_type": "markdown"
   },
   "source": [
    "## PROBLEMA 3. Generación de nuevas habitaciones (total: 30 puntos)\n",
    "\n",
    "El procedimiento para generar nuevos mapas de paredes/enemigos/monedas, es seleccionar 2 componentes principales, por ejemplo $i$ y $j$, e _interpolarlas_. \n",
    "Para ello se debe combinar dos vectores de coeficientes en $\\verb|Y|$, que reconstruyen respectivamente la $i$-ésima fila y $j$-ésima fila de la matriz de distribuciones original.\n",
    "\n",
    "Específicamente, sea $\\alpha \\in [0, 1]$, y sean $\\mathbf{y}_i$ e $\\mathbf{y}_j$ los vectores de coeficientes de las distribuciones $i$ y $j$ respectivamente. \n",
    "Se usará la siguiente combinación lineal convexa:\n",
    "\n",
    "$$ \\textbf{y}_{\\text{nuevo}} = (1-\\alpha)\\,\\textbf{y}_i + \\alpha\\,\\textbf{y}_j $$\n",
    "\n",
    "En particular, si $\\alpha = 0$ se obtiene simplemente $\\textbf{y}_i$. \n",
    "Si $\\alpha = 1$ se obtiene $\\textbf{y}_j$. \n",
    "Pero si $\\alpha = 0.5$, se obtiene un punto medio entre $\\textbf{y}_i$ e $\\textbf{y}_j$.\n",
    "\n",
    "Con estos vectores $\\textbf{y}_{\\text{nuevo}}$ se pueden generar nuevas distribuciones de paredes, enemigos y monedas. Finalmente, estas se pueden combinar en una nueva habitación con la función $\\verb|join_distributions|$, definida al principio de este archivo."
   ]
  },
  {
   "cell_type": "markdown",
   "metadata": {
    "cell_id": "c7e1f27e3abb492e93746a0f6147b26a",
    "deepnote_cell_type": "markdown"
   },
   "source": [
    "### Pregunta 3.1 (10 puntos)\n",
    "Implemente la función $\\verb|interpolate_rows|$, que debe interpolar los coeficientes de dos distribuciones $i$ y $j$ en base a un $\\alpha$, y luego usar los nuevos coeficientes para generar una nueva fila representando una nueva distribución.\n",
    "La fila que retorne la función debe ser binaria, es decir, debe consistir solo de $0$s y $1$s."
   ]
  },
  {
   "cell_type": "code",
   "execution_count": 41,
   "metadata": {
    "cell_id": "a2e337d38b8b4dae8feedd756913ff42",
    "deepnote_cell_type": "code",
    "deepnote_to_be_reexecuted": false,
    "execution_millis": 0,
    "execution_start": 1682431834544,
    "source_hash": "7fe7ae7f"
   },
   "outputs": [],
   "source": [
    "def interpolate_rows(V, Y, mu, i, j, alpha):\n",
    "    \"\"\"\n",
    "    Parameters\n",
    "    ----------\n",
    "    V         :ndarray\n",
    "               First m principal components\n",
    "    Y         :ndarray\n",
    "               Principal Component Coefficients\n",
    "    mu        :ndarray\n",
    "               Average per column of M\n",
    "    i         :int\n",
    "               ith row to merge\n",
    "    j         :int\n",
    "               jth row to merge\n",
    "    alpha     :float\n",
    "               Merge amount\n",
    "    Returns\n",
    "    -------\n",
    "    new_row:ndarray\n",
    "            1D-array of the new row. It must be a binary array.\n",
    "    \"\"\"\n",
    "    aux = ((1 - alpha) * Y[i]) + (alpha * Y[j])\n",
    "    new_row = np.dot(aux, V.T) + mu\n",
    "    new_row = binarize(new_row)\n",
    "    return new_row"
   ]
  },
  {
   "cell_type": "markdown",
   "metadata": {
    "cell_id": "e192eeb22f97493baa06386c73ac360e",
    "deepnote_cell_type": "markdown"
   },
   "source": [
    "### Pregunta 3.2 (2 puntos)\n",
    "Usando el PCA realizado sobre la matriz de paredes en la pregunta 2.3, interpole las distribuciones de paredes de índice $i = 0$ y $j = 16$, con $\\alpha = 0.5$.\n",
    "\n",
    "Luego grafique el resultado con $\\verb|plt.imshow|$."
   ]
  },
  {
   "cell_type": "code",
   "execution_count": 42,
   "metadata": {
    "cell_id": "ada065f573d24d0c91223ae05d8a3912",
    "deepnote_cell_type": "code",
    "deepnote_to_be_reexecuted": false,
    "execution_millis": 55,
    "execution_start": 1682368946073,
    "output_cleared": true,
    "source_hash": "ba6bb655"
   },
   "outputs": [
    {
     "data": {
      "text/plain": [
       "<matplotlib.image.AxesImage at 0x1a18b9b3070>"
      ]
     },
     "execution_count": 42,
     "metadata": {},
     "output_type": "execute_result"
    },
    {
     "data": {
      "image/png": "[encoded data removed]",
      "text/plain": [
       "<Figure size 432x288 with 1 Axes>"
      ]
     },
     "metadata": {
      "needs_background": "light"
     },
     "output_type": "display_data"
    }
   ],
   "source": [
    "# Código para graficar la interpolación de paredes i=0 y j=16\n",
    "plt.imshow(vector_to_room(interpolate_rows(walls_V, walls_Y, walls_mu, 0, 16, 0.5)))"
   ]
  },
  {
   "cell_type": "markdown",
   "metadata": {
    "cell_id": "1a7875cf0c24415b967c62af9889a0eb",
    "deepnote_cell_type": "markdown"
   },
   "source": [
    "### Pregunta 3.3 (15 puntos)\n",
    "\n",
    "Implemente la función $\\verb|generate_new_room_row|$, que recibe tres matrices de distribuciones $\\verb|WALLS|$, $\\verb|ENEMIES|$ y $\\verb|COINS|$, una cantidad $m$ de componentes principales a calcular, los índices $i$ y $j$ de las habitaciones a interpolar, y una constante de interpolación $\\alpha$.\n",
    "\n",
    "Esta función debe realizar un PCA sobre las tres matrices de distribuciones por separado, obteniendo $m$ componentes principales para cada una.\n",
    "\n",
    "Con esta información, se debe interpolar las filas $i$ y $j$ de cada matriz con la constante $\\alpha$, para generar una nueva distribución de habitaciones, una de enemigos y otra de monedas.\n",
    "\n",
    "Finalmente, la función combina las tres distribuciones con $\\verb|join_distributions|$ para retornar una fila que representa una nueva habitación."
   ]
  },
  {
   "cell_type": "code",
   "execution_count": 43,
   "metadata": {
    "cell_id": "9094299aa2704bdfb63d98958f5d5f73",
    "deepnote_cell_type": "code",
    "deepnote_to_be_reexecuted": false,
    "execution_millis": 7,
    "execution_start": 1682520795786,
    "source_hash": "6b9512fe"
   },
   "outputs": [],
   "source": [
    "def generate_new_room_row(WALLS, ENEMIES, COINS, m, i, j, alpha):\n",
    "    \"\"\"\n",
    "    Parameters\n",
    "    ----------\n",
    "    WALLS  :ndarray\n",
    "            matrix of walls\n",
    "    ENEMIES:ndarray\n",
    "            matrix of enemies\n",
    "    COINS  :ndarray\n",
    "            matrix of coins\n",
    "    m      :int\n",
    "            number of principal components\n",
    "    i      :int\n",
    "            index of first row to interpolate\n",
    "    j      :int\n",
    "            index of second row to interpolate\n",
    "    alpha  :float\n",
    "            interpolation constant\n",
    "    ----------\n",
    "    Returns\n",
    "    new_room_row:ndarray\n",
    "                 1-D array representing a room with the numbers 0, 1, 2 and 3\n",
    "    \"\"\"\n",
    "    walls_V, walls_Y, walls_mu = PCA(WALLS, m)\n",
    "    enemies_V, enemies_Y, enemies_mu = PCA(ENEMIES, m)\n",
    "    coins_V, coins_Y, coins_mu = PCA(COINS, m)\n",
    "\n",
    "    new_walls = interpolate_rows(walls_V, walls_Y, walls_mu, i, j, alpha)\n",
    "    new_enemies = interpolate_rows(enemies_V, enemies_Y, enemies_mu, i, j, alpha)\n",
    "    new_coins = interpolate_rows(coins_V, coins_Y, coins_mu, i, j, alpha)\n",
    "    \n",
    "    new_room_row = join_distributions(new_walls, new_enemies, new_coins)\n",
    "    \n",
    "    return new_room_row"
   ]
  },
  {
   "cell_type": "markdown",
   "metadata": {
    "cell_id": "42c10184171f434fafd0c9abe7fa5542",
    "deepnote_cell_type": "markdown"
   },
   "source": [
    "### Pregunta 3.4 (3 puntos)\n",
    "Use la función $\\verb|generate_new_room_row|$ para generar la fila de una nueva habitación a partir de la 1° y 17° (índices 0 y 16 respectivamente), con 32 componentes principales y $\\alpha = 0.5$.\n",
    "\n",
    "Finalmente, dibuje el resultado con $\\verb|room_to_image|$."
   ]
  },
  {
   "cell_type": "code",
   "execution_count": 44,
   "metadata": {
    "cell_id": "0b23c3aca6f942d08261e0b320cc4c4d",
    "deepnote_cell_type": "code",
    "deepnote_to_be_reexecuted": false,
    "execution_millis": 113,
    "execution_start": 1682368946282,
    "output_cleared": true,
    "source_hash": "ffb3fa60"
   },
   "outputs": [
    {
     "data": {
      "image/png": "[encoded data removed]",
      "text/plain": [
       "<PIL.Image.Image image mode=RGBA size=384x320>"
      ]
     },
     "execution_count": 44,
     "metadata": {},
     "output_type": "execute_result"
    }
   ],
   "source": [
    "# Código para interpolar las habitaciones de índices 0 y 16\n",
    "new_room = generate_new_room_row(WALLS, ENEMIES, COINS, 32, 0, 16, 0.5)\n",
    "room_to_image(vector_to_room(new_room))"
   ]
  },
  {
   "cell_type": "markdown",
   "metadata": {
    "cell_id": "48a82606941a4e628cb3c78645d1de79",
    "deepnote_cell_type": "markdown"
   },
   "source": [
    "**¡Ya ha llegado al final de la tarea número 2! Ahora debe enviarla antes de las 18:00 hrs.**"
   ]
  }
 ],
 "metadata": {
  "deepnote": {},
  "deepnote_execution_queue": [],
  "deepnote_notebook_id": "a5e087fa93e848a6b88c43c9fd276055",
  "deepnote_persisted_session": {
   "createdAt": "2023-04-24T14:15:10.785Z"
  },
  "kernelspec": {
   "display_name": "Python 3 (ipykernel)",
   "language": "python",
   "name": "python3"
  },
  "language_info": {
   "codemirror_mode": {
    "name": "ipython",
    "version": 3
   },
   "file_extension": ".py",
   "mimetype": "text/x-python",
   "name": "python",
   "nbconvert_exporter": "python",
   "pygments_lexer": "ipython3",
   "version": "3.10.6"
  }
 },
 "nbformat": 4,
 "nbformat_minor": 1
}
